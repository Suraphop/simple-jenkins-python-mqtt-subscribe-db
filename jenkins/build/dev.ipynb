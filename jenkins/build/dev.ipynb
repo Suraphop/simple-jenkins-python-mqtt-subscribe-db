{
 "cells": [
  {
   "cell_type": "code",
   "execution_count": null,
   "metadata": {},
   "outputs": [],
   "source": [
    "import json\n",
    "import logging\n",
    "import random\n",
    "import time\n",
    "\n",
    "from paho.mqtt import client as mqtt_client\n",
    "\n",
    "BROKER = '192.168.100.110'\n",
    "PORT = 1883\n",
    "TOPIC = \"nat/GD/#\"\n",
    "\n",
    "# generate client ID with pub prefix randomly\n",
    "CLIENT_ID = f'python-mqtt-tcp-pub-sub-{random.randint(0, 10000)}'\n",
    "# USERNAME = 'emqx'\n",
    "# PASSWORD = 'public'\n",
    "\n",
    "FIRST_RECONNECT_DELAY = 1\n",
    "RECONNECT_RATE = 2\n",
    "MAX_RECONNECT_COUNT = 12\n",
    "MAX_RECONNECT_DELAY = 60\n",
    "\n",
    "FLAG_EXIT = False\n",
    "\n",
    "def on_connect(client, userdata, flags, rc):\n",
    "    if rc == 0 and client.is_connected():\n",
    "        print(\"Connected to MQTT Broker!\")\n",
    "        client.subscribe(TOPIC)\n",
    "    else:\n",
    "        print(f'Failed to connect, return code {rc}')\n",
    "\n",
    "def on_disconnect(client, userdata, rc):\n",
    "    logging.info(\"Disconnected with result code: %s\", rc)\n",
    "    reconnect_count, reconnect_delay = 0, FIRST_RECONNECT_DELAY\n",
    "    while reconnect_count < MAX_RECONNECT_COUNT:\n",
    "        logging.info(\"Reconnecting in %d seconds...\", reconnect_delay)\n",
    "        time.sleep(reconnect_delay)\n",
    "\n",
    "        try:\n",
    "            client.reconnect()\n",
    "            logging.info(\"Reconnected successfully!\")\n",
    "            return\n",
    "        except Exception as err:\n",
    "            logging.error(\"%s. Reconnect failed. Retrying...\", err)\n",
    "\n",
    "        reconnect_delay *= RECONNECT_RATE\n",
    "        reconnect_delay = min(reconnect_delay, MAX_RECONNECT_DELAY)\n",
    "        reconnect_count += 1\n",
    "    logging.info(\"Reconnect failed after %s attempts. Exiting...\", reconnect_count)\n",
    "    global FLAG_EXIT\n",
    "    FLAG_EXIT = True\n",
    "\n",
    "def on_message(client, userdata, msg):\n",
    "    datas = msg.payload.decode()\n",
    "    datas = json.loads(datas)\n",
    "  \n",
    "    if int(datas[\"temp2\"]) >5:\n",
    "        print(f'Received `{msg.payload.decode()}` from `{msg.topic}` topic')\n",
    "        print(datas[\"temp2\"])\n",
    "\n",
    "def connect_mqtt():\n",
    "    client = mqtt_client.Client(CLIENT_ID)\n",
    "    #client.username_pw_set(USERNAME, PASSWORD)\n",
    "    client.on_connect = on_connect\n",
    "    client.on_message = on_message\n",
    "    client.connect(BROKER, PORT, keepalive=3)\n",
    "    client.on_disconnect = on_disconnect\n",
    "    return client\n",
    "\n",
    "def run():\n",
    "    logging.basicConfig(format='%(asctime)s - %(levelname)s: %(message)s',\n",
    "                        level=logging.DEBUG)\n",
    "    client = connect_mqtt()\n",
    "    client.loop_forever()\n",
    "\n",
    "if __name__ == '__main__':\n",
    "    run()"
   ]
  },
  {
   "cell_type": "code",
   "execution_count": 9,
   "metadata": {},
   "outputs": [
    {
     "data": {
      "text/plain": [
       "'2023-06-29'"
      ]
     },
     "execution_count": 9,
     "metadata": {},
     "output_type": "execute_result"
    }
   ],
   "source": [
    "from datetime import datetime, timedelta\n",
    "\n",
    "def mfg_date(date_time):\n",
    "    mfg_date = date_time - timedelta(hours=7)\n",
    "    mfg_date_string = mfg_date.strftime(\"%Y-%m-%d\")\n",
    "    return mfg_date_string\n",
    "\n",
    "now = datetime.now()\n",
    "mfg_date(now)"
   ]
  }
 ],
 "metadata": {
  "kernelspec": {
   "display_name": "Python 3.9.0 ('testcron')",
   "language": "python",
   "name": "python3"
  },
  "language_info": {
   "codemirror_mode": {
    "name": "ipython",
    "version": 3
   },
   "file_extension": ".py",
   "mimetype": "text/x-python",
   "name": "python",
   "nbconvert_exporter": "python",
   "pygments_lexer": "ipython3",
   "version": "3.9.0"
  },
  "orig_nbformat": 4,
  "vscode": {
   "interpreter": {
    "hash": "ab80cde3ca2088efb50cb5bea2573eb8fc08e642c725b1d9b4f2ca8c1ae0063d"
   }
  }
 },
 "nbformat": 4,
 "nbformat_minor": 2
}
